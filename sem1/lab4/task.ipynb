{
 "cells": [
  {
   "attachments": {},
   "cell_type": "markdown",
   "metadata": {},
   "source": [
    "Радькин Кирилл Б01-009\n",
    "номер VI.9.32"
   ]
  },
  {
   "cell_type": "code",
   "execution_count": 2,
   "metadata": {},
   "outputs": [
    {
     "ename": "ModuleNotFoundError",
     "evalue": "No module named 'pandas'",
     "output_type": "error",
     "traceback": [
      "\u001b[1;31m---------------------------------------------------------------------------\u001b[0m",
      "\u001b[1;31mModuleNotFoundError\u001b[0m                       Traceback (most recent call last)",
      "Cell \u001b[1;32mIn [2], line 2\u001b[0m\n\u001b[0;32m      1\u001b[0m \u001b[39mimport\u001b[39;00m \u001b[39mnumpy\u001b[39;00m \u001b[39mas\u001b[39;00m \u001b[39mnp\u001b[39;00m\n\u001b[1;32m----> 2\u001b[0m \u001b[39mimport\u001b[39;00m \u001b[39mpandas\u001b[39;00m \u001b[39mas\u001b[39;00m \u001b[39mpd\u001b[39;00m\n\u001b[0;32m      3\u001b[0m \u001b[39m# %matplotlib inline\u001b[39;00m\n\u001b[0;32m      4\u001b[0m \u001b[39mimport\u001b[39;00m \u001b[39mmatplotlib\u001b[39;00m\u001b[39m.\u001b[39;00m\u001b[39mpyplot\u001b[39;00m \u001b[39mas\u001b[39;00m \u001b[39mplt\u001b[39;00m\n",
      "\u001b[1;31mModuleNotFoundError\u001b[0m: No module named 'pandas'"
     ]
    }
   ],
   "source": [
    "import numpy as np\n",
    "import pandas as pd\n",
    "# %matplotlib inline\n",
    "import matplotlib.pyplot as plt\n",
    "from IPython.display import set_matplotlib_formats"
   ]
  },
  {
   "attachments": {},
   "cell_type": "markdown",
   "metadata": {},
   "source": [
    "Полином в форме Ньютона"
   ]
  },
  {
   "cell_type": "code",
   "execution_count": null,
   "metadata": {},
   "outputs": [],
   "source": [
    "def divided_difference (x, y, first_i, last_i):\n",
    "    if first_i == last_i:\n",
    "        return y[first_i]\n",
    "        \n",
    "    return (divided_difference (x, y, first_i + 1, last_i) - divided_difference (x, y, first_i, last_i - 1)) / (x[last_i] - x[first_i])"
   ]
  },
  {
   "cell_type": "code",
   "execution_count": null,
   "metadata": {},
   "outputs": [
    {
     "data": {
      "text/plain": [
       "array([1910, 1920, 1930, 1940, 1950, 1960, 1970, 1980, 1990, 2000])"
      ]
     },
     "execution_count": 20,
     "metadata": {},
     "output_type": "execute_result"
    }
   ],
   "source": [
    "x = np.arange (1910, 2001, 10)\n",
    "x"
   ]
  },
  {
   "cell_type": "code",
   "execution_count": null,
   "metadata": {},
   "outputs": [
    {
     "data": {
      "text/plain": [
       "array([ 92228496, 106021537, 123202624, 132164569, 151325798, 179323175,\n",
       "       203211926, 226545805, 248709873, 281421906])"
      ]
     },
     "execution_count": 21,
     "metadata": {},
     "output_type": "execute_result"
    }
   ],
   "source": [
    "y = np.array ([92228496, 106021537, 123202624, 132164569, 151325798, 179323175,  203211926, 226545805, 248709873, 281421906])\n",
    "y"
   ]
  },
  {
   "cell_type": "code",
   "execution_count": null,
   "metadata": {},
   "outputs": [],
   "source": [
    "coef = np.zeros (x.size)\n",
    "for i in range (coef.size):\n",
    "    coef[i] = divided_difference (x, y, 0, i)"
   ]
  },
  {
   "cell_type": "code",
   "execution_count": null,
   "metadata": {},
   "outputs": [
    {
     "data": {
      "text/plain": [
       "array([ 9.22284960e+07,  1.37930410e+06,  1.69402300e+04, -1.93453133e+03,\n",
       "        1.25106725e+02, -4.15059800e+00,  8.05654167e-02, -7.56485278e-04,\n",
       "       -7.56467535e-06,  5.09932804e-07])"
      ]
     },
     "execution_count": 37,
     "metadata": {},
     "output_type": "execute_result"
    }
   ],
   "source": [
    "coef"
   ]
  },
  {
   "cell_type": "code",
   "execution_count": null,
   "metadata": {},
   "outputs": [],
   "source": [
    "def get_polynomial_value (div_diff, x_div, x):\n",
    "    assert (div_diff.size == x_div.size)\n",
    "    \n",
    "    res = 0\n",
    "\n",
    "    for i in range (div_diff.size):\n",
    "        tmp_res = 1\n",
    "        for j in range (i):\n",
    "            tmp_res *= (x - x_div[j])\n",
    "        \n",
    "        res += div_diff[i] * tmp_res\n",
    "\n",
    "    return res"
   ]
  },
  {
   "attachments": {},
   "cell_type": "markdown",
   "metadata": {},
   "source": [
    "Сплайн"
   ]
  },
  {
   "cell_type": "code",
   "execution_count": null,
   "metadata": {},
   "outputs": [],
   "source": [
    "def tridiagonal (h, y):\n",
    "    a = np.zeros (y.size)\n",
    "    b = np.zeros (y.size)\n",
    "    c = np.zeros (y.size)\n",
    "    f = np.zeros (y.size)\n",
    "\n",
    "    b[0] = b[-1] = 1\n",
    "\n",
    "    for i in range (1, y.size - 1):\n",
    "        a[i] = h[i] / 6\n",
    "        b[i] = (h[i] + h[i + 1]) / 3\n",
    "        c[i] = h[i + 1] / 6\n",
    "        f[i] = (y[i + 1] - y[i]) / h[i + 1] - (y[i] - y[i - 1]) / h[i]\n",
    "\n",
    "    alpha = np.zeros (y.size)\n",
    "    beta = np.zeros (y.size)\n",
    "\n",
    "    for i in range(y.size - 1):\n",
    "        alpha[i + 1] = - c[i] / (a[i] * alpha[i] + b[i])\n",
    "        beta[i+1]  = (f[i] - a[i] * beta[i]) / (a[i] * alpha[i] + b[i])\n",
    "    \n",
    "    x = np.zeros(y.size)\n",
    "    x[y.size - 1] = (f[y.size - 1] - a[y.size - 1] * beta[y.size - 1]) / (a[y.size - 1] * alpha[y.size - 1] + b[y.size - 1])\n",
    "\n",
    "    for i in reversed(range(y.size - 1)):\n",
    "        x[i] = alpha[i + 1] * x[i + 1] + beta[i + 1]\n",
    "\n",
    "    return x"
   ]
  },
  {
   "cell_type": "code",
   "execution_count": null,
   "metadata": {},
   "outputs": [],
   "source": [
    "h = np.zeros (x.size)\n",
    "\n",
    "for i in range (1, h.size):\n",
    "    h[i] = x[i] - x[i - 1]\n",
    "\n",
    "c = tridiagonal (h, y)\n",
    "a = np.zeros (x.size)\n",
    "b = np.zeros (x.size)\n",
    "d = np.zeros (x.size)\n",
    "\n",
    "for i in range(1, len(d)):\n",
    "        a[i] = y[i]\n",
    "        d[i] = (c[i] - c[i-1]) / h[i]\n",
    "        b[i] = (2 * c[i] + c[i-1]) / 6 * h[i] + (y[i] - y[i - 1]) / h[i]\n",
    "\n",
    "S = lambda X, i: a[i] + b[i] * (X - x[i]) + 0.5 * c[i] * ((X - x[i]) ** 2) + 1/6 * d[i] * ((X - x[i]) ** 3)\n",
    "\n",
    "def get_spline_value (x_, y_, x_val):\n",
    "    if x_val <= x_[1]:\n",
    "        return S(x_val, 1)\n",
    "    \n",
    "    elif x_val > x_[-1]:\n",
    "        return S(x_val, -1)\n",
    "\n",
    "    else:\n",
    "        for i in range (1, x_.size):\n",
    "            if x_val > x_[i - 1] and x_val <= x_[i]:\n",
    "                return S(x_val, i)\n"
   ]
  },
  {
   "attachments": {},
   "cell_type": "markdown",
   "metadata": {},
   "source": [
    "Результат"
   ]
  },
  {
   "cell_type": "code",
   "execution_count": null,
   "metadata": {},
   "outputs": [
    {
     "name": "stdout",
     "output_type": "stream",
     "text": [
      "Истинное значение на 2010 год:  308745538\n",
      "Полином в форме ньютона на 2010 год:  10640486053\n",
      "Сплайн:  314133939\n"
     ]
    },
    {
     "name": "stderr",
     "output_type": "stream",
     "text": [
      "C:\\Users\\hokey\\AppData\\Local\\Temp\\ipykernel_14076\\2221389413.py:9: RuntimeWarning: overflow encountered in long_scalars\n",
      "  tmp_res *= (x - x_div[j])\n"
     ]
    }
   ],
   "source": [
    "print (\"Истинное значение на 2010 год:  308745538\")\n",
    "print (\"Полином в форме ньютона на 2010 год: \", int(get_polynomial_value (coef, x, 2010)))\n",
    "print (\"Сплайн: \", int (get_spline_value (x, y, 2010)))"
   ]
  },
  {
   "cell_type": "code",
   "execution_count": null,
   "metadata": {},
   "outputs": [
    {
     "data": {
      "image/png": "[encoded data removed]",
      "text/plain": [
       "<Figure size 1000x1000 with 1 Axes>"
      ]
     },
     "metadata": {},
     "output_type": "display_data"
    },
    {
     "data": {
      "text/plain": [
       "<Figure size 640x480 with 0 Axes>"
      ]
     },
     "metadata": {},
     "output_type": "display_data"
    }
   ],
   "source": [
    "plt.figure(figsize=[10, 10])\n",
    "\n",
    "plt.xlabel (\"Год\")\n",
    "plt.ylabel (\"Численность\")\n",
    "\n",
    "new_x = np.linspace (1900, 2010, 1000)\n",
    "plt.plot (new_x, get_polynomial_value (coef, x, new_x), label=\"Полином в форме Ньютона\", color=\"red\")\n",
    "\n",
    "spline_y = np.array ([get_spline_value(x, y, i) for i in new_x])\n",
    "plt.plot (new_x, spline_y, label=\"Сплайн\", color=\"orange\")\n",
    "\n",
    "plt.scatter (x, y, label=\"Исходные значения\")\n",
    "\n",
    "plt.legend()\n",
    "plt.grid()\n",
    "plt.show()\n",
    "plt.savefig(\"./picturies/graph1.png\", dpi=100)"
   ]
  }
 ],
 "metadata": {
  "kernelspec": {
   "display_name": "Python 3",
   "language": "python",
   "name": "python3"
  },
  "language_info": {
   "codemirror_mode": {
    "name": "ipython",
    "version": 3
   },
   "file_extension": ".py",
   "mimetype": "text/x-python",
   "name": "python",
   "nbconvert_exporter": "python",
   "pygments_lexer": "ipython3",
   "version": "3.11.0"
  },
  "orig_nbformat": 4,
  "vscode": {
   "interpreter": {
    "hash": "c1e4df6fb7c941edca43635a145778df3953822c51168a488da42b02d541ceb0"
   }
  }
 },
 "nbformat": 4,
 "nbformat_minor": 2
}
