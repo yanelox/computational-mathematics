{
 "cells": [
  {
   "cell_type": "markdown",
   "metadata": {},
   "source": [
    "Радькин Кирилл Б01-009"
   ]
  },
  {
   "cell_type": "markdown",
   "metadata": {},
   "source": [
    "12.4 з)  \n",
    "$2lg (x) - x / 2 + 1 = 0$"
   ]
  },
  {
   "cell_type": "code",
   "execution_count": 2,
   "metadata": {},
   "outputs": [],
   "source": [
    "from re import S\n",
    "import numpy as np\n",
    "import pandas as pd\n",
    "# %matplotlib inline\n",
    "import matplotlib.pyplot as plt\n",
    "from IPython.display import set_matplotlib_formats"
   ]
  },
  {
   "cell_type": "code",
   "execution_count": 8,
   "metadata": {},
   "outputs": [],
   "source": [
    "eps = 1e-15"
   ]
  },
  {
   "cell_type": "markdown",
   "metadata": {},
   "source": [
    "$f (x) = 0$"
   ]
  },
  {
   "cell_type": "code",
   "execution_count": 23,
   "metadata": {},
   "outputs": [],
   "source": [
    "f = lambda x: 2 * np.log (x) - x / 2 + 1"
   ]
  },
  {
   "cell_type": "markdown",
   "metadata": {},
   "source": [
    "$F(x) = x$"
   ]
  },
  {
   "cell_type": "code",
   "execution_count": 24,
   "metadata": {},
   "outputs": [],
   "source": [
    "F = lambda x: np.exp ((x / 2 - 1) / 2)"
   ]
  },
  {
   "cell_type": "markdown",
   "metadata": {},
   "source": [
    "$F'(x)$"
   ]
  },
  {
   "cell_type": "code",
   "execution_count": 31,
   "metadata": {},
   "outputs": [],
   "source": [
    "F1 = lambda x: np.exp ((x / 2 - 1) / 2) / 4"
   ]
  },
  {
   "cell_type": "markdown",
   "metadata": {},
   "source": [
    "Корень на интервале [0.5, 1], проверим значение производной на интервале"
   ]
  },
  {
   "cell_type": "code",
   "execution_count": 36,
   "metadata": {},
   "outputs": [
    {
     "data": {
      "text/plain": [
       "[<matplotlib.lines.Line2D at 0x20506c57130>]"
      ]
     },
     "execution_count": 36,
     "metadata": {},
     "output_type": "execute_result"
    },
    {
     "data": {
      "image/png": "[encoded data removed]",
      "text/plain": [
       "<Figure size 640x480 with 1 Axes>"
      ]
     },
     "metadata": {},
     "output_type": "display_data"
    }
   ],
   "source": [
    "tmp_x = np.array ([i / 100 for i in range (50, 100, 1)])\n",
    "tmp_y = F1 (tmp_x)\n",
    "plt.plot (tmp_x, tmp_y)"
   ]
  },
  {
   "cell_type": "markdown",
   "metadata": {},
   "source": [
    "Значение меньше 1 на интервале, значит метод сходится"
   ]
  },
  {
   "cell_type": "markdown",
   "metadata": {},
   "source": [
    "Найдем корень, начнем с точки 0.75"
   ]
  },
  {
   "cell_type": "code",
   "execution_count": 41,
   "metadata": {},
   "outputs": [
    {
     "name": "stdout",
     "output_type": "stream",
     "text": [
      "Корень:  0.7275144767582377\n",
      "Значение в точке: 4.440892098500626e-16\n"
     ]
    }
   ],
   "source": [
    "x_prev = 10\n",
    "x = 0.75\n",
    "while np.abs (x - x_prev) >= eps:\n",
    "    x_prev = x\n",
    "    x = F (x_prev)\n",
    "\n",
    "print (\"Корень: \", x)\n",
    "print (\"Значение в точке:\", f(x))"
   ]
  },
  {
   "cell_type": "markdown",
   "metadata": {},
   "source": [
    "12.5 в)  \n",
    "$\\begin{cases} cos (x - 1) + y = 0.5 \\\\ x - cos y = 3 \\end{cases}$  "
   ]
  },
  {
   "cell_type": "markdown",
   "metadata": {},
   "source": [
    "Примерное значение корня x = 3, y = 1"
   ]
  },
  {
   "cell_type": "code",
   "execution_count": 42,
   "metadata": {},
   "outputs": [],
   "source": [
    "eps = 1e-3"
   ]
  },
  {
   "cell_type": "markdown",
   "metadata": {},
   "source": [
    "F(x)"
   ]
  },
  {
   "cell_type": "code",
   "execution_count": 50,
   "metadata": {},
   "outputs": [],
   "source": [
    "def F2 (x):\n",
    "    return np.array ([np.cos (x[0] - 1) + x[1] - 0.5, x[0] - np.cos (x[1]) - 3])"
   ]
  },
  {
   "cell_type": "markdown",
   "metadata": {},
   "source": [
    "F'(x)"
   ]
  },
  {
   "cell_type": "code",
   "execution_count": 51,
   "metadata": {},
   "outputs": [],
   "source": [
    "def F21 (x):\n",
    "    ans = np.zeros ((2, 2))\n",
    "\n",
    "    ans[0, 0] = -np.sin (x[0] - 1)\n",
    "    ans[0, 1] = 1\n",
    "    ans[1, 0] = 1\n",
    "    ans[1, 1] = np.sin (x[1])\n",
    "\n",
    "    return ans"
   ]
  },
  {
   "cell_type": "code",
   "execution_count": 65,
   "metadata": {},
   "outputs": [
    {
     "name": "stdout",
     "output_type": "stream",
     "text": [
      "Решение: [3.35591174 1.20690682]\n",
      "Значения F(x) в точке решения: [5.41009904e-10 6.83124668e-10]\n"
     ]
    }
   ],
   "source": [
    "x_prev = np.array ([10.0, 10.0])\n",
    "x = np.array ([3, 1])\n",
    "\n",
    "while np.linalg.norm (x - x_prev) >= eps:\n",
    "    x_prev = x\n",
    "    x = x_prev - np.matmul (np.linalg.inv (F21(x)), F2(x)) \n",
    "\n",
    "print (\"Решение:\", x)\n",
    "print (\"Значения F(x) в точке решения:\", F2(x))"
   ]
  },
  {
   "cell_type": "markdown",
   "metadata": {},
   "source": [
    "12.7 a)  \n",
    "$\\begin{cases} 2x^2 - xy - 5x + 1 = 0 \\\\ x + 3log (x) - y^2 = 0 \\end{cases}$  "
   ]
  },
  {
   "cell_type": "markdown",
   "metadata": {},
   "source": [
    "Примерное значение корней:  \n",
    "1) x = 4, y = 3\n",
    "2) x = 1, y = -1.5"
   ]
  },
  {
   "cell_type": "markdown",
   "metadata": {},
   "source": [
    "F(x)"
   ]
  },
  {
   "cell_type": "code",
   "execution_count": 56,
   "metadata": {},
   "outputs": [],
   "source": [
    "def F3 (x):\n",
    "    return np.array ([2 * x[0] ** 2 - x[0] * x[1] - 5 * x[0] + 1, x[0] + 3 * np.log (x[0]) - x[1] ** 2])"
   ]
  },
  {
   "cell_type": "code",
   "execution_count": 57,
   "metadata": {},
   "outputs": [],
   "source": [
    "def F31 (x):\n",
    "    ans = np.zeros ((2, 2))\n",
    "\n",
    "    ans[0, 0] = 4 * x[0] - x[1] - 5\n",
    "    ans[0, 1] = -x[0]\n",
    "    ans[1, 0] = 1 + 3 / x[0]\n",
    "    ans[1, 1] = -2 * x[1]\n",
    "\n",
    "    return ans"
   ]
  },
  {
   "cell_type": "markdown",
   "metadata": {},
   "source": [
    "1-й корень:"
   ]
  },
  {
   "cell_type": "code",
   "execution_count": 63,
   "metadata": {},
   "outputs": [
    {
     "name": "stdout",
     "output_type": "stream",
     "text": [
      "Решение: [3.75683401 2.77984959]\n",
      "Значения F(x) в точке решения: [ 4.15518286e-09 -3.51937679e-09]\n"
     ]
    }
   ],
   "source": [
    "x_prev = np.array ([10.0, 10.0])\n",
    "x = np.array ([4, 3])\n",
    "\n",
    "while np.linalg.norm (x - x_prev) >= eps:\n",
    "    x_prev = x\n",
    "    x = x_prev - np.matmul (np.linalg.inv (F31(x)), F3(x)) \n",
    "\n",
    "print (\"Решение:\", x)\n",
    "print (\"Значения F(x) в точке решения:\", F3(x))"
   ]
  },
  {
   "cell_type": "markdown",
   "metadata": {},
   "source": [
    "2-й корень:"
   ]
  },
  {
   "cell_type": "code",
   "execution_count": 64,
   "metadata": {},
   "outputs": [
    {
     "name": "stdout",
     "output_type": "stream",
     "text": [
      "Решение: [ 1.37347835 -1.52496485]\n",
      "Значения F(x) в точке решения: [ 3.69501940e-09 -5.42700813e-08]\n"
     ]
    }
   ],
   "source": [
    "x_prev = np.array ([10.0, 10.0])\n",
    "x = np.array ([1, -1.5])\n",
    "\n",
    "while np.linalg.norm (x - x_prev) >= eps:\n",
    "    x_prev = x\n",
    "    x = x_prev - np.matmul (np.linalg.inv (F31(x)), F3(x)) \n",
    "\n",
    "print (\"Решение:\", x)\n",
    "print (\"Значения F(x) в точке решения:\", F3(x))"
   ]
  },
  {
   "cell_type": "code",
   "execution_count": null,
   "metadata": {},
   "outputs": [],
   "source": []
  }
 ],
 "metadata": {
  "kernelspec": {
   "display_name": "Python 3.10.8 64-bit (microsoft store)",
   "language": "python",
   "name": "python3"
  },
  "language_info": {
   "codemirror_mode": {
    "name": "ipython",
    "version": 3
   },
   "file_extension": ".py",
   "mimetype": "text/x-python",
   "name": "python",
   "nbconvert_exporter": "python",
   "pygments_lexer": "ipython3",
   "version": "3.10.8"
  },
  "orig_nbformat": 4,
  "vscode": {
   "interpreter": {
    "hash": "2cf5d5e9186255d0c2e49bbf314f0c241eddc098d2ae28f8e2506ba9e9ace414"
   }
  }
 },
 "nbformat": 4,
 "nbformat_minor": 2
}
