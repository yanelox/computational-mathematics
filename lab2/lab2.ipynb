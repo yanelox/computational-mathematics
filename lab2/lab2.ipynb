{
 "cells": [
  {
   "cell_type": "code",
   "execution_count": 1,
   "metadata": {},
   "outputs": [],
   "source": [
    "import numpy as np"
   ]
  },
  {
   "cell_type": "code",
   "execution_count": 2,
   "metadata": {},
   "outputs": [],
   "source": [
    "def get_m (a, b, c, p, n):\n",
    "    a = np.array (a)\n",
    "    b = np.array (b)\n",
    "    c = np.array (c)\n",
    "    p = np.array (p)\n",
    "\n",
    "    if a.size != n or b.size != n or c.size != n or p.size != n + 1:\n",
    "        return None\n",
    "\n",
    "    m = np.zeros ((n + 1, n + 1))\n",
    "\n",
    "    m[0][0] = b[0]\n",
    "    m[0][1] = c[0]\n",
    "\n",
    "    for i in range (1, n):\n",
    "        m[i][i - 1] = a[i]\n",
    "        m[i][i] = b[i]\n",
    "        m[i][i + 1] = c[i]\n",
    "\n",
    "    for i in range (n + 1):\n",
    "        m[n][i] = p[i]\n",
    "\n",
    "    return m\n"
   ]
  },
  {
   "cell_type": "markdown",
   "metadata": {},
   "source": [
    "Пункт К"
   ]
  },
  {
   "cell_type": "code",
   "execution_count": 3,
   "metadata": {},
   "outputs": [],
   "source": [
    "m = np.zeros ((10, 10))\n",
    "\n",
    "for i in range(10):\n",
    "    for j in range(10):\n",
    "        if i == j:\n",
    "            m[i][j] = 1\n",
    "        else:\n",
    "            m[i][j] = 1 / (i + j + 2)\n",
    "\n",
    "f = np.array ([1 / (i + 1) for i in range(10)])\n",
    "n = 10\n",
    "x = np.zeros (n)"
   ]
  },
  {
   "cell_type": "markdown",
   "metadata": {},
   "source": [
    "Норма 1"
   ]
  },
  {
   "cell_type": "code",
   "execution_count": 4,
   "metadata": {},
   "outputs": [
    {
     "name": "stdout",
     "output_type": "stream",
     "text": [
      "5.6336089382284005\n"
     ]
    }
   ],
   "source": [
    "print (np.linalg.norm (m, ord=1) * np.linalg.norm (np.linalg.inv (m), ord=1))"
   ]
  },
  {
   "cell_type": "markdown",
   "metadata": {},
   "source": [
    "LU или Гаусс"
   ]
  },
  {
   "cell_type": "code",
   "execution_count": 106,
   "metadata": {},
   "outputs": [],
   "source": [
    "LU = True\n",
    "\n",
    "for i in range (10):\n",
    "    m_slice = m[0:i].T[0:i].T\n",
    "    if np.linalg.det (m_slice) == 0.0:\n",
    "        LU = False\n",
    "        break"
   ]
  },
  {
   "cell_type": "code",
   "execution_count": 118,
   "metadata": {},
   "outputs": [
    {
     "name": "stdout",
     "output_type": "stream",
     "text": [
      "----------LU----------\n",
      "Ответ: [ 9.19077109e-01  1.75540170e-01  6.39348240e-02  2.72747640e-02\n",
      "  1.14234685e-02  3.51083928e-03 -7.89957814e-04 -3.25080145e-03\n",
      " -4.69787781e-03 -5.55373994e-03]\n",
      "Значение |A * x - f|: 1.0198049666328888e-16\n",
      "----------------------\n",
      "----------Гаусс----------\n",
      "Ответ: [ 9.19077109e-01  1.75540170e-01  6.39348240e-02  2.72747640e-02\n",
      "  1.14234685e-02  3.51083928e-03 -7.89957814e-04 -3.25080145e-03\n",
      " -4.69787781e-03 -5.55373994e-03]\n",
      "Значение |A * x - f|: 7.601177430610147e-17\n",
      "-------------------------\n"
     ]
    }
   ],
   "source": [
    "if LU:\n",
    "    L = np.zeros ((n, n))\n",
    "    U = np.zeros ((n ,n))\n",
    "\n",
    "    for i in range(n):\n",
    "        L[i][i] = 1\n",
    "\n",
    "    for i in range (n):\n",
    "        for j in range (n):\n",
    "            if i <= j:\n",
    "                U[i][j] = m[i][j] - np.sum ([L[i][k] * U[k][j] for k in range(i)])\n",
    "\n",
    "            else:\n",
    "                L[i][j] = (m[i][j] - np.sum ([L[i][k] * U[k][j] for k in range(j)])) / U[j][j]\n",
    "\n",
    "    y = np.zeros (n)\n",
    "\n",
    "    for i in range (n):\n",
    "        y[i] = (f[i] - np.sum ([y[k] * L[i][k] for k in range (i)])) / L[i][i]\n",
    "\n",
    "    x[n - 1] = y[n - 1] / U[n - 1][n - 1]\n",
    "    for i in range (n - 2, -1, -1):\n",
    "        x[i] = (y[i] - np.sum ([x[k] * U[i][k] for k in range (i + 1, n)])) / U[i][i]\n",
    "\n",
    "    print (\"----------LU----------\")\n",
    "    print (\"Ответ:\", x)\n",
    "    print (\"Значение |A * x - f|:\", np.linalg.norm (np.matmul (m, x) - f))\n",
    "    print (\"----------------------\")\n",
    "\n",
    "exp_m = np.zeros ((n, n + 1))\n",
    "\n",
    "for i in range (n):\n",
    "    for j in range (n):\n",
    "        exp_m[i][j] = m[i][j]\n",
    "\n",
    "for i in range (n):\n",
    "    exp_m[i][n] = f[i]\n",
    "\n",
    "indexes = np.zeros (n, dtype=int)\n",
    "\n",
    "for i in range (n):\n",
    "    indexes[i] = j = np.argmax (list (map (abs, exp_m[i][:-1])))\n",
    "    for k in range (n):\n",
    "        if k != i:\n",
    "            coef = - exp_m[k][j] / exp_m[i][j]\n",
    "            exp_m[k] += exp_m[i] * coef\n",
    "\n",
    "for i in range (n):\n",
    "    x[indexes[i]] = exp_m[i][-1] / exp_m[i][indexes[i]]\n",
    "\n",
    "print (\"----------Гаусс----------\")\n",
    "print (\"Ответ:\", x)\n",
    "print (\"Значение |A * x - f|:\", np.linalg.norm (np.matmul (m, x) - f))\n",
    "print (\"-------------------------\")"
   ]
  },
  {
   "cell_type": "markdown",
   "metadata": {},
   "source": [
    "Метод релаксации"
   ]
  },
  {
   "cell_type": "code",
   "execution_count": 142,
   "metadata": {},
   "outputs": [
    {
     "name": "stdout",
     "output_type": "stream",
     "text": [
      "----------Метод релаксации----------\n",
      "Ответ: [ 9.19077109e-01  1.75540170e-01  6.39348240e-02  2.72747640e-02\n",
      "  1.14234685e-02  3.51083928e-03 -7.89957814e-04 -3.25080145e-03\n",
      " -4.69787781e-03 -5.55373994e-03]\n",
      "Значение |A * x - f|: 2.622130794118103e-16\n",
      "------------------------------------\n"
     ]
    }
   ],
   "source": [
    "w = 1.42\n",
    "acc = 1e-15\n",
    "L = np.zeros ((n, n))\n",
    "D = np.zeros ((n, n))\n",
    "U = np.zeros ((n, n))\n",
    "\n",
    "for i in range (n):\n",
    "    for j in range (n):\n",
    "        if i < j:\n",
    "            U[i][j] = m[i][j]\n",
    "        if i == j:\n",
    "            D[i][j] = m[i][j]\n",
    "        if i > j:\n",
    "            L[i][j] = m[i][j]\n",
    "\n",
    "x_prev = np.random.random (10)\n",
    "x = np.random.random (10)\n",
    "\n",
    "while np.linalg.norm (x - x_prev) > acc:\n",
    "    x_prev = x\n",
    "    x = - np.matmul (np.matmul (np.linalg.inv (D + w * L), (w - 1) * D + w * U), x_prev) + w * np.matmul (np.linalg.inv (D + w * L), f)\n",
    "\n",
    "print (\"----------Метод релаксации----------\")\n",
    "print (\"Ответ:\", x)\n",
    "print (\"Значение |A * x - f|:\", np.linalg.norm (np.matmul (m, x) - f))\n",
    "print (\"------------------------------------\")"
   ]
  },
  {
   "cell_type": "code",
   "execution_count": null,
   "metadata": {},
   "outputs": [],
   "source": []
  }
 ],
 "metadata": {
  "kernelspec": {
   "display_name": "Python 3.10.7 64-bit (microsoft store)",
   "language": "python",
   "name": "python3"
  },
  "language_info": {
   "codemirror_mode": {
    "name": "ipython",
    "version": 3
   },
   "file_extension": ".py",
   "mimetype": "text/x-python",
   "name": "python",
   "nbconvert_exporter": "python",
   "pygments_lexer": "ipython3",
   "version": "3.10.7"
  },
  "orig_nbformat": 4,
  "vscode": {
   "interpreter": {
    "hash": "2cf5d5e9186255d0c2e49bbf314f0c241eddc098d2ae28f8e2506ba9e9ace414"
   }
  }
 },
 "nbformat": 4,
 "nbformat_minor": 2
}
